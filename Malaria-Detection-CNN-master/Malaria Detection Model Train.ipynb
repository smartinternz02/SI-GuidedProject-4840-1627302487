{
 "cells": [
  {
   "cell_type": "code",
   "execution_count": 112,
   "metadata": {},
   "outputs": [],
   "source": [
    "from tensorflow.keras.models import Sequential\n",
    "from tensorflow.keras.layers import Dense, Dropout, Convolution2D,MaxPooling2D,Flatten\n",
    "\n"
   ]
  },
  {
   "cell_type": "code",
   "execution_count": 113,
   "metadata": {},
   "outputs": [],
   "source": [
    "#agumentating the images by applying some more features, and rescaling\n",
    "from tensorflow.keras.preprocessing .image import ImageDataGenerator\n",
    "\n",
    "train_datagen = ImageDataGenerator(rescale = 1./255,shear_range = 0.2,zoom_range = 0.1,horizontal_flip = True)\n",
    "test_datagen = ImageDataGenerator(rescale = 1./255)\n",
    "\n"
   ]
  },
  {
   "cell_type": "code",
   "execution_count": 114,
   "metadata": {},
   "outputs": [
    {
     "name": "stdout",
     "output_type": "stream",
     "text": [
      "Found 13644 images belonging to 2 classes.\n",
      "Found 13914 images belonging to 2 classes.\n"
     ]
    }
   ],
   "source": [
    "x_train = train_datagen.flow_from_directory(r'C:\\Users\\sbara\\Desktop\\Salem_CNN_Project\\cell_images\\trainset',target_size = (64,64),batch_size = 32,class_mode = \"categorical\")\n",
    "x_test = test_datagen.flow_from_directory(r'C:\\Users\\sbara\\Desktop\\Salem_CNN_Project\\cell_images\\testset',target_size = (64,64),batch_size = 32,class_mode = \"categorical\")"
   ]
  },
  {
   "cell_type": "code",
   "execution_count": 115,
   "metadata": {},
   "outputs": [
    {
     "data": {
      "text/plain": [
       "{'Parasitized': 0, 'Uninfected': 1}"
      ]
     },
     "execution_count": 115,
     "metadata": {},
     "output_type": "execute_result"
    }
   ],
   "source": [
    "x_train.class_indices"
   ]
  },
  {
   "cell_type": "code",
   "execution_count": 116,
   "metadata": {},
   "outputs": [],
   "source": [
    "model = Sequential()"
   ]
  },
  {
   "cell_type": "code",
   "execution_count": 117,
   "metadata": {},
   "outputs": [],
   "source": [
    "model.add(Convolution2D(32,(3,3),input_shape = (64,64,3)))"
   ]
  },
  {
   "cell_type": "code",
   "execution_count": 118,
   "metadata": {},
   "outputs": [],
   "source": [
    "model.add(MaxPooling2D((2,2)))"
   ]
  },
  {
   "cell_type": "code",
   "execution_count": 119,
   "metadata": {},
   "outputs": [],
   "source": [
    "model.add(Flatten())"
   ]
  },
  {
   "cell_type": "code",
   "execution_count": 120,
   "metadata": {},
   "outputs": [],
   "source": [
    "model.add(Dense(units = 128, kernel_initializer = \"random_uniform\", activation =\"relu\"))\n",
    "model.add(Dropout(0.25))"
   ]
  },
  {
   "cell_type": "code",
   "execution_count": 121,
   "metadata": {},
   "outputs": [],
   "source": [
    "model.add(Dense(units = 128, kernel_initializer = \"random_uniform\", activation =\"relu\"))\n",
    "model.add(Dropout(0.3))"
   ]
  },
  {
   "cell_type": "code",
   "execution_count": 122,
   "metadata": {},
   "outputs": [],
   "source": [
    "model.add(Dense(units = 128, kernel_initializer = \"random_uniform\", activation =\"relu\"))\n",
    "model.add(Dropout(0.4))"
   ]
  },
  {
   "cell_type": "code",
   "execution_count": 123,
   "metadata": {},
   "outputs": [],
   "source": [
    "model.add(Dense(units = 2 , kernel_initializer= \"random_uniform\",activation = \"softmax\"))"
   ]
  },
  {
   "cell_type": "code",
   "execution_count": 124,
   "metadata": {},
   "outputs": [],
   "source": [
    "model.compile(optimizer= \"adam\",loss = \"categorical_crossentropy\" , metrics =[\"accuracy\"])"
   ]
  },
  {
   "cell_type": "code",
   "execution_count": 135,
   "metadata": {},
   "outputs": [
    {
     "name": "stdout",
     "output_type": "stream",
     "text": [
      "Epoch 1/40\n",
      "47/47 [==============================] - 6s 130ms/step - loss: 0.2522 - accuracy: 0.9049 - val_loss: 0.2122 - val_accuracy: 0.9359\n",
      "Epoch 2/40\n",
      "47/47 [==============================] - 8s 160ms/step - loss: 0.2585 - accuracy: 0.8949 - val_loss: 0.2579 - val_accuracy: 0.8938\n",
      "Epoch 3/40\n",
      "47/47 [==============================] - 6s 134ms/step - loss: 0.2306 - accuracy: 0.9076 - val_loss: 0.2424 - val_accuracy: 0.9250\n",
      "Epoch 4/40\n",
      "47/47 [==============================] - 7s 141ms/step - loss: 0.2464 - accuracy: 0.9062 - val_loss: 0.2168 - val_accuracy: 0.9375\n",
      "Epoch 5/40\n",
      "47/47 [==============================] - 6s 135ms/step - loss: 0.3028 - accuracy: 0.8757 - val_loss: 0.2294 - val_accuracy: 0.9312\n",
      "Epoch 6/40\n",
      "47/47 [==============================] - 6s 136ms/step - loss: 0.2786 - accuracy: 0.8989 - val_loss: 0.2160 - val_accuracy: 0.9234\n",
      "Epoch 7/40\n",
      "47/47 [==============================] - 6s 137ms/step - loss: 0.2608 - accuracy: 0.8949 - val_loss: 0.3217 - val_accuracy: 0.8891\n",
      "Epoch 8/40\n",
      "47/47 [==============================] - 6s 137ms/step - loss: 0.2759 - accuracy: 0.8883 - val_loss: 0.2624 - val_accuracy: 0.9125\n",
      "Epoch 9/40\n",
      "47/47 [==============================] - 6s 136ms/step - loss: 0.2458 - accuracy: 0.9023 - val_loss: 0.2862 - val_accuracy: 0.8734\n",
      "Epoch 10/40\n",
      "47/47 [==============================] - 6s 136ms/step - loss: 0.2721 - accuracy: 0.8962 - val_loss: 0.2190 - val_accuracy: 0.9359\n",
      "Epoch 11/40\n",
      "47/47 [==============================] - 9s 199ms/step - loss: 0.2583 - accuracy: 0.9016 - val_loss: 0.2125 - val_accuracy: 0.9406\n",
      "Epoch 12/40\n",
      "47/47 [==============================] - 9s 179ms/step - loss: 0.2661 - accuracy: 0.9016 - val_loss: 0.2198 - val_accuracy: 0.9359\n",
      "Epoch 13/40\n",
      "47/47 [==============================] - 7s 150ms/step - loss: 0.2746 - accuracy: 0.9089 - val_loss: 0.2867 - val_accuracy: 0.8750\n",
      "Epoch 14/40\n",
      "47/47 [==============================] - 8s 167ms/step - loss: 0.2477 - accuracy: 0.8996 - val_loss: 0.1849 - val_accuracy: 0.9391\n",
      "Epoch 15/40\n",
      "47/47 [==============================] - 6s 134ms/step - loss: 0.2697 - accuracy: 0.9023 - val_loss: 0.1897 - val_accuracy: 0.9375\n",
      "Epoch 16/40\n",
      "47/47 [==============================] - 6s 126ms/step - loss: 0.2330 - accuracy: 0.9089 - val_loss: 0.1953 - val_accuracy: 0.9375\n",
      "Epoch 17/40\n",
      "47/47 [==============================] - 6s 129ms/step - loss: 0.2478 - accuracy: 0.9056 - val_loss: 0.2137 - val_accuracy: 0.9250\n",
      "Epoch 18/40\n",
      "47/47 [==============================] - 6s 128ms/step - loss: 0.2679 - accuracy: 0.8976 - val_loss: 0.2342 - val_accuracy: 0.9219\n",
      "Epoch 19/40\n",
      "47/47 [==============================] - 7s 138ms/step - loss: 0.2479 - accuracy: 0.9049 - val_loss: 0.3064 - val_accuracy: 0.9031\n",
      "Epoch 20/40\n",
      "47/47 [==============================] - 6s 129ms/step - loss: 0.2511 - accuracy: 0.8996 - val_loss: 0.2025 - val_accuracy: 0.9297\n",
      "Epoch 21/40\n",
      "47/47 [==============================] - 6s 129ms/step - loss: 0.2507 - accuracy: 0.9016 - val_loss: 0.2691 - val_accuracy: 0.9203\n",
      "Epoch 22/40\n",
      "47/47 [==============================] - 6s 132ms/step - loss: 0.2668 - accuracy: 0.8969 - val_loss: 0.2198 - val_accuracy: 0.9344\n",
      "Epoch 23/40\n",
      "47/47 [==============================] - 6s 128ms/step - loss: 0.2447 - accuracy: 0.9003 - val_loss: 0.2730 - val_accuracy: 0.8938\n",
      "Epoch 24/40\n",
      "47/47 [==============================] - 6s 129ms/step - loss: 0.2453 - accuracy: 0.8963 - val_loss: 0.1941 - val_accuracy: 0.9484\n",
      "Epoch 25/40\n",
      "47/47 [==============================] - 6s 129ms/step - loss: 0.2576 - accuracy: 0.9049 - val_loss: 0.1791 - val_accuracy: 0.9422\n",
      "Epoch 26/40\n",
      "47/47 [==============================] - 7s 143ms/step - loss: 0.2489 - accuracy: 0.8976 - val_loss: 0.2612 - val_accuracy: 0.9250\n",
      "Epoch 27/40\n",
      "47/47 [==============================] - 6s 130ms/step - loss: 0.2711 - accuracy: 0.8989 - val_loss: 0.1893 - val_accuracy: 0.9297\n",
      "Epoch 28/40\n",
      "47/47 [==============================] - 7s 150ms/step - loss: 0.2432 - accuracy: 0.9023 - val_loss: 0.1895 - val_accuracy: 0.9391\n",
      "Epoch 29/40\n",
      "47/47 [==============================] - 7s 149ms/step - loss: 0.2627 - accuracy: 0.8976 - val_loss: 0.2618 - val_accuracy: 0.9062\n",
      "Epoch 30/40\n",
      "47/47 [==============================] - 7s 148ms/step - loss: 0.2514 - accuracy: 0.9043 - val_loss: 0.2373 - val_accuracy: 0.9203\n",
      "Epoch 31/40\n",
      "47/47 [==============================] - 7s 155ms/step - loss: 0.2355 - accuracy: 0.9076 - val_loss: 0.2367 - val_accuracy: 0.9141\n",
      "Epoch 32/40\n",
      "47/47 [==============================] - 7s 145ms/step - loss: 0.2388 - accuracy: 0.9062 - val_loss: 0.2531 - val_accuracy: 0.9297\n",
      "Epoch 33/40\n",
      "47/47 [==============================] - 7s 144ms/step - loss: 0.2295 - accuracy: 0.9070 - val_loss: 0.2401 - val_accuracy: 0.9141\n",
      "Epoch 34/40\n",
      "47/47 [==============================] - 6s 138ms/step - loss: 0.2294 - accuracy: 0.9089 - val_loss: 0.2878 - val_accuracy: 0.9141\n",
      "Epoch 35/40\n",
      "47/47 [==============================] - 7s 139ms/step - loss: 0.2447 - accuracy: 0.9089 - val_loss: 0.2004 - val_accuracy: 0.9297\n",
      "Epoch 36/40\n",
      "47/47 [==============================] - 6s 137ms/step - loss: 0.2881 - accuracy: 0.8996 - val_loss: 0.2218 - val_accuracy: 0.9344\n",
      "Epoch 37/40\n",
      "47/47 [==============================] - 6s 137ms/step - loss: 0.2537 - accuracy: 0.9136 - val_loss: 0.2574 - val_accuracy: 0.9141\n",
      "Epoch 38/40\n",
      "47/47 [==============================] - 6s 137ms/step - loss: 0.2852 - accuracy: 0.8903 - val_loss: 0.2382 - val_accuracy: 0.9187\n",
      "Epoch 39/40\n",
      "47/47 [==============================] - 6s 137ms/step - loss: 0.2816 - accuracy: 0.8989 - val_loss: 0.2941 - val_accuracy: 0.9141\n",
      "Epoch 40/40\n",
      "47/47 [==============================] - 7s 141ms/step - loss: 0.2580 - accuracy: 0.8910 - val_loss: 0.2135 - val_accuracy: 0.9234\n"
     ]
    },
    {
     "data": {
      "text/plain": [
       "<tensorflow.python.keras.callbacks.History at 0x1872fe68748>"
      ]
     },
     "execution_count": 135,
     "metadata": {},
     "output_type": "execute_result"
    }
   ],
   "source": [
    "model.fit_generator(x_train,steps_per_epoch = 47 , epochs = 40 , validation_data = x_test,validation_steps = 20 )"
   ]
  },
  {
   "cell_type": "code",
   "execution_count": 136,
   "metadata": {},
   "outputs": [
    {
     "data": {
      "text/plain": [
       "20.0"
      ]
     },
     "execution_count": 136,
     "metadata": {},
     "output_type": "execute_result"
    }
   ],
   "source": [
    "640/32"
   ]
  },
  {
   "cell_type": "code",
   "execution_count": 137,
   "metadata": {},
   "outputs": [],
   "source": [
    "model.save(\"malaria_detector.h5\")"
   ]
  },
  {
   "cell_type": "code",
   "execution_count": null,
   "metadata": {},
   "outputs": [],
   "source": []
  }
 ],
 "metadata": {
  "kernelspec": {
   "display_name": "Python 3",
   "language": "python",
   "name": "python3"
  },
  "language_info": {
   "codemirror_mode": {
    "name": "ipython",
    "version": 3
   },
   "file_extension": ".py",
   "mimetype": "text/x-python",
   "name": "python",
   "nbconvert_exporter": "python",
   "pygments_lexer": "ipython3",
   "version": "3.7.3"
  }
 },
 "nbformat": 4,
 "nbformat_minor": 4
}
