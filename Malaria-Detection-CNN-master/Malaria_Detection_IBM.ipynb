{
 "cells": [
  {
   "cell_type": "code",
   "execution_count": 1,
   "metadata": {},
   "outputs": [
    {
     "name": "stdout",
     "output_type": "stream",
     "text": [
      "Collecting watson-machine-learning-client\n",
      "  Downloading https://files.pythonhosted.org/packages/df/ec/f2e7a189b2485e2e0bae65ee317c60347889f44c246de0b0acb451ae1a68/watson_machine_learning_client-1.0.391-py3-none-any.whl (538kB)\n",
      "Requirement already satisfied: urllib3 in c:\\users\\sbara\\anaconda3\\lib\\site-packages (from watson-machine-learning-client) (1.24.2)\n",
      "Requirement already satisfied: requests in c:\\users\\sbara\\anaconda3\\lib\\site-packages (from watson-machine-learning-client) (2.22.0)\n",
      "Requirement already satisfied: tqdm in c:\\users\\sbara\\anaconda3\\lib\\site-packages (from watson-machine-learning-client) (4.32.1)\n",
      "Collecting boto3 (from watson-machine-learning-client)\n",
      "  Downloading https://files.pythonhosted.org/packages/ab/45/133c9acf7bffe5123612220409bffc6c2c0e0dd543eda07c24e07f8317ac/boto3-1.18.21-py3-none-any.whl (131kB)\n",
      "Requirement already satisfied: pandas in c:\\users\\sbara\\anaconda3\\lib\\site-packages (from watson-machine-learning-client) (0.24.2)\n",
      "Collecting lomond (from watson-machine-learning-client)\n",
      "  Downloading https://files.pythonhosted.org/packages/0f/b1/02eebed49c754b01b17de7705caa8c4ceecfb4f926cdafc220c863584360/lomond-0.3.3-py2.py3-none-any.whl\n",
      "Collecting ibm-cos-sdk (from watson-machine-learning-client)\n",
      "  Downloading https://files.pythonhosted.org/packages/21/ca/0d9856508d93dd66086286a66fb368cd69f6c90dfe1e5116713cec2e2866/ibm-cos-sdk-2.10.0.tar.gz (52kB)\n",
      "Collecting tabulate (from watson-machine-learning-client)\n",
      "  Downloading https://files.pythonhosted.org/packages/ca/80/7c0cad11bd99985cfe7c09427ee0b4f9bd6b048bd13d4ffb32c6db237dfb/tabulate-0.8.9-py3-none-any.whl\n",
      "Requirement already satisfied: certifi in c:\\users\\sbara\\anaconda3\\lib\\site-packages (from watson-machine-learning-client) (2019.6.16)\n",
      "Requirement already satisfied: idna<2.9,>=2.5 in c:\\users\\sbara\\anaconda3\\lib\\site-packages (from requests->watson-machine-learning-client) (2.8)\n",
      "Requirement already satisfied: chardet<3.1.0,>=3.0.2 in c:\\users\\sbara\\anaconda3\\lib\\site-packages (from requests->watson-machine-learning-client) (3.0.4)\n",
      "Collecting jmespath<1.0.0,>=0.7.1 (from boto3->watson-machine-learning-client)\n",
      "  Downloading https://files.pythonhosted.org/packages/07/cb/5f001272b6faeb23c1c9e0acc04d48eaaf5c862c17709d20e3469c6e0139/jmespath-0.10.0-py2.py3-none-any.whl\n",
      "Collecting s3transfer<0.6.0,>=0.5.0 (from boto3->watson-machine-learning-client)\n",
      "  Downloading https://files.pythonhosted.org/packages/ab/84/fc3717a7b7f0f6bb08af593127171f08e3e0087c197922da09c01bfe7c3a/s3transfer-0.5.0-py3-none-any.whl (79kB)\n",
      "Collecting botocore<1.22.0,>=1.21.21 (from boto3->watson-machine-learning-client)\n",
      "  Downloading https://files.pythonhosted.org/packages/ec/d7/e63cfd303b2cdb6c9502af3db87962f20f7b33ccb3afcc54b700d341886f/botocore-1.21.21-py3-none-any.whl (7.8MB)\n",
      "Requirement already satisfied: pytz>=2011k in c:\\users\\sbara\\anaconda3\\lib\\site-packages (from pandas->watson-machine-learning-client) (2019.1)\n",
      "Requirement already satisfied: python-dateutil>=2.5.0 in c:\\users\\sbara\\anaconda3\\lib\\site-packages (from pandas->watson-machine-learning-client) (2.8.0)\n",
      "Requirement already satisfied: numpy>=1.12.0 in c:\\users\\sbara\\anaconda3\\lib\\site-packages (from pandas->watson-machine-learning-client) (1.19.5)\n",
      "Requirement already satisfied: six>=1.10.0 in c:\\users\\sbara\\anaconda3\\lib\\site-packages (from lomond->watson-machine-learning-client) (1.15.0)\n",
      "Collecting ibm-cos-sdk-core==2.10.0 (from ibm-cos-sdk->watson-machine-learning-client)\n",
      "  Downloading https://files.pythonhosted.org/packages/e3/66/c51ccc8e318de67aa738aec3560ee93164d7547addac5f59e56b1f293205/ibm-cos-sdk-core-2.10.0.tar.gz (888kB)\n",
      "Collecting ibm-cos-sdk-s3transfer==2.10.0 (from ibm-cos-sdk->watson-machine-learning-client)\n",
      "  Downloading https://files.pythonhosted.org/packages/9f/12/437a2dbad65815e207b526f7d7e0ce5bfe8f239796be1661feeb4c9218c9/ibm-cos-sdk-s3transfer-2.10.0.tar.gz (133kB)\n",
      "Building wheels for collected packages: ibm-cos-sdk, ibm-cos-sdk-core, ibm-cos-sdk-s3transfer\n",
      "  Building wheel for ibm-cos-sdk (setup.py): started\n",
      "  Building wheel for ibm-cos-sdk (setup.py): finished with status 'done'\n",
      "  Stored in directory: C:\\Users\\sbara\\AppData\\Local\\pip\\Cache\\wheels\\1e\\17\\aa\\4a724caf066bc355b1441466a2c2802a3db03bffeb597ce80a\n",
      "  Building wheel for ibm-cos-sdk-core (setup.py): started\n",
      "  Building wheel for ibm-cos-sdk-core (setup.py): finished with status 'done'\n",
      "  Stored in directory: C:\\Users\\sbara\\AppData\\Local\\pip\\Cache\\wheels\\41\\cc\\14\\4ab5d122cd62a66397c26fab3a7ac3e61b9cf9705a8a78c9d7\n",
      "  Building wheel for ibm-cos-sdk-s3transfer (setup.py): started\n",
      "  Building wheel for ibm-cos-sdk-s3transfer (setup.py): finished with status 'done'\n",
      "  Stored in directory: C:\\Users\\sbara\\AppData\\Local\\pip\\Cache\\wheels\\1f\\5a\\a1\\59e3337c92e50a8a25c62e72bb3d4ffe2ccfcad835ff0bb79f\n",
      "Successfully built ibm-cos-sdk ibm-cos-sdk-core ibm-cos-sdk-s3transfer\n",
      "Installing collected packages: jmespath, botocore, s3transfer, boto3, lomond, ibm-cos-sdk-core, ibm-cos-sdk-s3transfer, ibm-cos-sdk, tabulate, watson-machine-learning-client\n",
      "Successfully installed boto3-1.18.21 botocore-1.21.21 ibm-cos-sdk-2.10.0 ibm-cos-sdk-core-2.10.0 ibm-cos-sdk-s3transfer-2.10.0 jmespath-0.10.0 lomond-0.3.3 s3transfer-0.5.0 tabulate-0.8.9 watson-machine-learning-client-1.0.391\n"
     ]
    },
    {
     "name": "stderr",
     "output_type": "stream",
     "text": [
      "ERROR: botocore 1.21.21 has requirement urllib3<1.27,>=1.25.4, but you'll have urllib3 1.24.2 which is incompatible.\n"
     ]
    }
   ],
   "source": [
    "!pip install watson-machine-learning-client"
   ]
  },
  {
   "cell_type": "code",
   "execution_count": 2,
   "metadata": {},
   "outputs": [
    {
     "name": "stderr",
     "output_type": "stream",
     "text": [
      "C:\\Users\\sbara\\Anaconda3\\lib\\site-packages\\sklearn\\externals\\joblib\\__init__.py:15: DeprecationWarning: sklearn.externals.joblib is deprecated in 0.21 and will be removed in 0.23. Please import this functionality directly from joblib, which can be installed with: pip install joblib. If this warning is raised when loading pickled models, you may need to re-serialize those models with scikit-learn 0.21+.\n",
      "  warnings.warn(msg, category=DeprecationWarning)\n"
     ]
    }
   ],
   "source": [
    "from ibm_watson_machine_learning import APIClient\n",
    "wml_credentials = {\n",
    "    \"url\" : \"https://us-south.ml.cloud.ibm.com\",\n",
    "    \"apikey\" : \"IZzC1ZycPG-clfHmwuJiJii79xQcANe4zYARAMlr5wuS\"\n",
    "}"
   ]
  },
  {
   "cell_type": "code",
   "execution_count": 3,
   "metadata": {},
   "outputs": [],
   "source": [
    "client = APIClient(wml_credentials)"
   ]
  },
  {
   "cell_type": "code",
   "execution_count": 4,
   "metadata": {},
   "outputs": [],
   "source": [
    "def guid_from_space_name(client, space_name):\n",
    "    space = client.spaces.get_details()\n",
    "    return (next(item for item in space['resources'] if item['entity'][\"name\"] == space_name)['metadata']['id'])"
   ]
  },
  {
   "cell_type": "code",
   "execution_count": 5,
   "metadata": {},
   "outputs": [
    {
     "name": "stdout",
     "output_type": "stream",
     "text": [
      "Space UID = 9e2c0f91-c54b-4217-b9da-0bfa1dc763d5\n"
     ]
    }
   ],
   "source": [
    "space_uid = guid_from_space_name(client, 'malariadetection')\n",
    "print(\"Space UID = \" + space_uid)"
   ]
  },
  {
   "cell_type": "code",
   "execution_count": 6,
   "metadata": {},
   "outputs": [
    {
     "data": {
      "text/plain": [
       "'SUCCESS'"
      ]
     },
     "execution_count": 6,
     "metadata": {},
     "output_type": "execute_result"
    }
   ],
   "source": [
    "client.set.default_space(space_uid)"
   ]
  },
  {
   "cell_type": "code",
   "execution_count": 7,
   "metadata": {},
   "outputs": [
    {
     "name": "stdout",
     "output_type": "stream",
     "text": [
      "Successfully saved model content to file: 'malaria_detection.tar.gz'\n"
     ]
    },
    {
     "data": {
      "text/plain": [
       "'C:\\\\Users\\\\sbara\\\\Desktop\\\\Artificial Intelligence\\\\jupyter files/malaria_detection.tar.gz'"
      ]
     },
     "execution_count": 7,
     "metadata": {},
     "output_type": "execute_result"
    }
   ],
   "source": [
    "client.repository.download('db373eee-e212-4af8-94ae-178e82f87a6b','malaria_detection.tar.gz')"
   ]
  },
  {
   "cell_type": "code",
   "execution_count": null,
   "metadata": {},
   "outputs": [],
   "source": []
  }
 ],
 "metadata": {
  "kernelspec": {
   "display_name": "Python 3",
   "language": "python",
   "name": "python3"
  },
  "language_info": {
   "codemirror_mode": {
    "name": "ipython",
    "version": 3
   },
   "file_extension": ".py",
   "mimetype": "text/x-python",
   "name": "python",
   "nbconvert_exporter": "python",
   "pygments_lexer": "ipython3",
   "version": "3.7.3"
  }
 },
 "nbformat": 4,
 "nbformat_minor": 2
}
